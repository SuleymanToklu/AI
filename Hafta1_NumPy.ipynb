{
  "nbformat": 4,
  "nbformat_minor": 0,
  "metadata": {
    "colab": {
      "provenance": [],
      "include_colab_link": true
    },
    "kernelspec": {
      "name": "python3",
      "display_name": "Python 3"
    },
    "language_info": {
      "name": "python"
    }
  },
  "cells": [
    {
      "cell_type": "markdown",
      "metadata": {
        "id": "view-in-github",
        "colab_type": "text"
      },
      "source": [
        "<a href=\"https://colab.research.google.com/github/SuleymanToklu/AI/blob/main/Hafta1_NumPy.ipynb\" target=\"_parent\"><img src=\"https://colab.research.google.com/assets/colab-badge.svg\" alt=\"Open In Colab\"/></a>"
      ]
    },
    {
      "cell_type": "markdown",
      "source": [
        "# Isparta University of Applied Sciences Artificial Intelligent Systems - Sinan Uğuz Texts"
      ],
      "metadata": {
        "id": "Hfu-Sr7Q1N1X"
      }
    },
    {
      "cell_type": "markdown",
      "metadata": {
        "id": "19c978b2"
      },
      "source": [
        "# NUMPY Module"
      ]
    },
    {
      "cell_type": "markdown",
      "metadata": {
        "id": "0d91342c"
      },
      "source": [
        "**What is NumPy?**\n",
        "\n",
        "NumPy is the fundamental package for scientific computing in Python. It is a Python library that provides a multidimensional array object, derived objects (such as masked arrays and matrices), and a variety of routines for fast operations on arrays (mathematical, logical, shape manipulation, sorting, selecting, I/O, discrete Fourier transforms, basic linear algebra, basic statistical operations, random simulation and much more).\n",
        "\n",
        "At the core of the NumPy package is the ndarray object. This encapsulates n-dimensional arrays of homogeneous data types, and many operations are performed in compiled code for performance. There are several important differences between NumPy arrays and standard Python sequences (like lists):\n",
        "\n",
        "Fixed size: A NumPy array has a fixed size at creation. A Python list can grow dynamically. Changing the size of an ndarray will create a new array and delete the original.\n",
        "\n",
        "Same data type: The elements of a NumPy array must all be of the same data type, and thus will be the same size in memory. The exception is that arrays of Python (and NumPy) objects can be maintained, in which case the elements can be of different sizes.\n",
        "\n",
        "Advanced operations: NumPy arrays facilitate advanced mathematical and other types of operations on large amounts of data. These operations are often more efficient and require less code than doing similar operations with Python’s built-in sequences.\n",
        "\n",
        "An increasing number of scientific and mathematical Python-based packages are using NumPy arrays. Although these packages will often accept Python sequences as input, they will convert them to NumPy arrays prior to processing, and will often output NumPy arrays.\n",
        "\n",
        "In short, to use much of the scientific/mathematical Python-based software available today, and to do so efficiently, it is not sufficient to just know how to use Python’s built-in sequences; you also need to know how to use NumPy arrays."
      ]
    },
    {
      "cell_type": "markdown",
      "metadata": {
        "id": "414423f7"
      },
      "source": [
        "**Source of NumPy's speed:**\n",
        "\n",
        "Loops and heavy operations are performed at the C level instead of Python (vectorization).\n",
        "\n",
        "Flexible and efficient handling of arrays of different dimensions (broadcasting)."
      ]
    },
    {
      "cell_type": "markdown",
      "metadata": {
        "id": "a6cdf758"
      },
      "source": [
        "NumPy's array class is called **ndarray**. This class is also simply called array. However, there is an important point to note:\n",
        "\n",
        "👉 numpy.array is not the same thing as the array.array class in Python's standard library.\n",
        "\n",
        "numpy.array (ndarray): Supports multidimensional arrays, offers mathematical operations, broadcasting, vectorization, and many advanced functionalities.\n",
        "\n",
        "array.array (Standard Python Library): Supports only one-dimensional arrays and its functionality is quite limited.\n",
        "\n",
        "In summary, NumPy's ndarray class is a much more powerful and flexible structure developed for use in scientific and numerical computations."
      ]
    },
    {
      "cell_type": "code",
      "execution_count": 36,
      "metadata": {
        "id": "A2bGdrmZZHOg"
      },
      "outputs": [],
      "source": [
        "#List 2.1\n",
        "import numpy as np"
      ]
    },
    {
      "cell_type": "markdown",
      "metadata": {
        "id": "acaf776f"
      },
      "source": [
        "the import command adds a library"
      ]
    },
    {
      "cell_type": "code",
      "source": [
        "\"\"\"\n",
        " We have a single example here. This measurement represents temperature, humidity, wind speed, and pressure values from a weather station.\n",
        " Let's store it in a 1-dimensional array (vector).\n",
        "\"\"\"\n",
        "#List 2.2\n",
        "veri=np.array([5.7,2.6,3.5,1.0])\n",
        "print(veri)"
      ],
      "metadata": {
        "id": "b3BiteJoZ3Gg",
        "colab": {
          "base_uri": "https://localhost:8080/"
        },
        "outputId": "b13f6e6b-815b-4be2-8970-829ab731d501"
      },
      "execution_count": 37,
      "outputs": [
        {
          "output_type": "stream",
          "name": "stdout",
          "text": [
            "[5.7 2.6 3.5 1. ]\n"
          ]
        }
      ]
    },
    {
      "cell_type": "code",
      "source": [
        "\"\"\"\n",
        "2-dimensional (single-row matrix)\n",
        "A single example but a 2-dimensional table (1 row, 3 columns)\n",
        "\"\"\"\n",
        "#List 2.3\n",
        "veri2=np.array([[2,5,7]])\n",
        "print(veri2)"
      ],
      "metadata": {
        "colab": {
          "base_uri": "https://localhost:8080/"
        },
        "id": "07jwXSTPaIJQ",
        "outputId": "08a50647-46c8-471a-d55b-36e2fc6bf97d"
      },
      "execution_count": 38,
      "outputs": [
        {
          "output_type": "stream",
          "name": "stdout",
          "text": [
            "[[2 5 7]]\n"
          ]
        }
      ]
    },
    {
      "cell_type": "code",
      "source": [
        "#List 2.4\n",
        "print(np.array([[2,5,7], [3,6,8]]))"
      ],
      "metadata": {
        "colab": {
          "base_uri": "https://localhost:8080/"
        },
        "id": "NbyFN4ghabwg",
        "outputId": "f91c9e5d-a6ef-42a9-e3a7-919a329f5301"
      },
      "execution_count": 39,
      "outputs": [
        {
          "output_type": "stream",
          "name": "stdout",
          "text": [
            "[[2 5 7]\n",
            " [3 6 8]]\n"
          ]
        }
      ]
    },
    {
      "cell_type": "code",
      "source": [
        "#List 2.5\n",
        "print(np.zeros(3))"
      ],
      "metadata": {
        "colab": {
          "base_uri": "https://localhost:8080/"
        },
        "id": "WdN1ec0Aafxo",
        "outputId": "b21269d6-370a-4d49-e3f4-13cf13496dce"
      },
      "execution_count": 40,
      "outputs": [
        {
          "output_type": "stream",
          "name": "stdout",
          "text": [
            "[0. 0. 0.]\n"
          ]
        }
      ]
    },
    {
      "cell_type": "code",
      "source": [
        "#List 2.6\n",
        "print(np.zeros((4,3)))"
      ],
      "metadata": {
        "colab": {
          "base_uri": "https://localhost:8080/"
        },
        "id": "8X-6wuMcai2A",
        "outputId": "d092321d-4ad6-4c7d-98aa-7e569edac874"
      },
      "execution_count": 41,
      "outputs": [
        {
          "output_type": "stream",
          "name": "stdout",
          "text": [
            "[[0. 0. 0.]\n",
            " [0. 0. 0.]\n",
            " [0. 0. 0.]\n",
            " [0. 0. 0.]]\n"
          ]
        }
      ]
    },
    {
      "cell_type": "code",
      "source": [
        "#List 2.7\n",
        "print(np.zeros((2,4,3)))"
      ],
      "metadata": {
        "colab": {
          "base_uri": "https://localhost:8080/"
        },
        "id": "OQpJgAZFal9p",
        "outputId": "b7b16877-a4e6-4004-f5ed-c4660fdb5180"
      },
      "execution_count": 42,
      "outputs": [
        {
          "output_type": "stream",
          "name": "stdout",
          "text": [
            "[[[0. 0. 0.]\n",
            "  [0. 0. 0.]\n",
            "  [0. 0. 0.]\n",
            "  [0. 0. 0.]]\n",
            "\n",
            " [[0. 0. 0.]\n",
            "  [0. 0. 0.]\n",
            "  [0. 0. 0.]\n",
            "  [0. 0. 0.]]]\n"
          ]
        }
      ]
    },
    {
      "cell_type": "code",
      "source": [
        "#List 2.8\n",
        "print(np.ones(4))"
      ],
      "metadata": {
        "colab": {
          "base_uri": "https://localhost:8080/"
        },
        "id": "i6x3I8YIao8Y",
        "outputId": "7410ea99-ae93-4189-88c9-4886550908f9"
      },
      "execution_count": 43,
      "outputs": [
        {
          "output_type": "stream",
          "name": "stdout",
          "text": [
            "[1. 1. 1. 1.]\n"
          ]
        }
      ]
    },
    {
      "cell_type": "code",
      "source": [
        "#List 2.9\n",
        "print(np.full((2,2),\"Python\"))"
      ],
      "metadata": {
        "id": "Y7OeutblargQ",
        "colab": {
          "base_uri": "https://localhost:8080/"
        },
        "outputId": "71a3e426-858a-48d9-b5fc-07a8d6758edf"
      },
      "execution_count": 44,
      "outputs": [
        {
          "output_type": "stream",
          "name": "stdout",
          "text": [
            "[['Python' 'Python']\n",
            " ['Python' 'Python']]\n"
          ]
        }
      ]
    },
    {
      "cell_type": "code",
      "source": [
        "#List 2.10\n",
        "print(np.arange(0, 1, 0.2))"
      ],
      "metadata": {
        "colab": {
          "base_uri": "https://localhost:8080/"
        },
        "id": "a5qfPycjauMg",
        "outputId": "63f9aff5-8079-4dfc-de0b-8bdfb93dcc68"
      },
      "execution_count": 45,
      "outputs": [
        {
          "output_type": "stream",
          "name": "stdout",
          "text": [
            "[0.  0.2 0.4 0.6 0.8]\n"
          ]
        }
      ]
    },
    {
      "cell_type": "code",
      "source": [
        "#List 2.11\n",
        "print(np.linspace(0.0, 1.0, num=5))\n",
        "print(np.linspace(0.0, 1.0, num=5, endpoint=False))"
      ],
      "metadata": {
        "id": "mhhKCImoaxgg",
        "colab": {
          "base_uri": "https://localhost:8080/"
        },
        "outputId": "cf06b06d-278f-4e89-b508-8521e53286cb"
      },
      "execution_count": 46,
      "outputs": [
        {
          "output_type": "stream",
          "name": "stdout",
          "text": [
            "[0.   0.25 0.5  0.75 1.  ]\n",
            "[0.  0.2 0.4 0.6 0.8]\n"
          ]
        }
      ]
    },
    {
      "cell_type": "code",
      "source": [
        "# Example\n",
        "print(np.linspace(0, 100, num=5, retstep=True))"
      ],
      "metadata": {
        "colab": {
          "base_uri": "https://localhost:8080/"
        },
        "id": "DFg_jm2J2Ns-",
        "outputId": "dbeca769-c4d0-4253-93c6-a44088aa55bf"
      },
      "execution_count": 78,
      "outputs": [
        {
          "output_type": "stream",
          "name": "stdout",
          "text": [
            "(array([  0.,  25.,  50.,  75., 100.]), np.float64(25.0))\n"
          ]
        }
      ]
    },
    {
      "cell_type": "code",
      "source": [
        "#List 2.12\n",
        "print(np.random.rand(2,2))\n",
        "print(np.random.randn(2,2))"
      ],
      "metadata": {
        "colab": {
          "base_uri": "https://localhost:8080/"
        },
        "id": "wLRYN4Mua1oh",
        "outputId": "f34a30c7-9c33-4a2a-de85-d9813d752959"
      },
      "execution_count": 47,
      "outputs": [
        {
          "output_type": "stream",
          "name": "stdout",
          "text": [
            "[[0.58993868 0.1288768 ]\n",
            " [0.27306348 0.22513666]]\n",
            "[[-0.2617269  -0.49124083]\n",
            " [ 2.21433949 -1.25018116]]\n"
          ]
        }
      ]
    },
    {
      "cell_type": "code",
      "source": [
        "#List 2.13\n",
        "print(np.random.randint(1,50, size=(2, 3)))"
      ],
      "metadata": {
        "colab": {
          "base_uri": "https://localhost:8080/"
        },
        "id": "t0Vr0bXga4UA",
        "outputId": "ff8ebb56-3370-4a71-835c-60ac843641c5"
      },
      "execution_count": 84,
      "outputs": [
        {
          "output_type": "stream",
          "name": "stdout",
          "text": [
            "[[30 30 10]\n",
            " [40 15 40]]\n"
          ]
        }
      ]
    },
    {
      "cell_type": "code",
      "source": [
        "#List 2.14\n",
        "dizi = np.arange(2.0, 9.0)\n",
        "print(dizi.dtype,dizi)"
      ],
      "metadata": {
        "colab": {
          "base_uri": "https://localhost:8080/"
        },
        "id": "oBgF_VoXa6rn",
        "outputId": "ac13de37-1710-465e-c63e-a8948af4e493"
      },
      "execution_count": 49,
      "outputs": [
        {
          "output_type": "stream",
          "name": "stdout",
          "text": [
            "float64 [2. 3. 4. 5. 6. 7. 8.]\n"
          ]
        }
      ]
    },
    {
      "cell_type": "code",
      "source": [
        "#List 2.15\n",
        "#.itemsize gives the amount of memory in bytes occupied by each element.\n",
        "dizi = np.arange(1, 3, dtype=np.int64)\n",
        "print(dizi.itemsize)"
      ],
      "metadata": {
        "colab": {
          "base_uri": "https://localhost:8080/"
        },
        "id": "DqJFlscJdIrW",
        "outputId": "9ca39479-9846-4473-f7a5-fb932026e1e8"
      },
      "execution_count": 50,
      "outputs": [
        {
          "output_type": "stream",
          "name": "stdout",
          "text": [
            "8\n"
          ]
        }
      ]
    },
    {
      "cell_type": "code",
      "source": [
        "#List 2.16\n",
        "dizi=np.arange(16)\n",
        "print(dizi)\n",
        "print(\"Number of Dimensions:\", dizi.ndim)\n",
        "dizi.shape=(4,4)\n",
        "print(dizi)\n",
        "print(\"Number of Dimensions:\", dizi.ndim)"
      ],
      "metadata": {
        "colab": {
          "base_uri": "https://localhost:8080/"
        },
        "id": "fSANVe5DdMBM",
        "outputId": "60f5aa39-32ca-4afc-c9b3-c020229c0cba"
      },
      "execution_count": 51,
      "outputs": [
        {
          "output_type": "stream",
          "name": "stdout",
          "text": [
            "[ 0  1  2  3  4  5  6  7  8  9 10 11 12 13 14 15]\n",
            "Number of Dimensions: 1\n",
            "[[ 0  1  2  3]\n",
            " [ 4  5  6  7]\n",
            " [ 8  9 10 11]\n",
            " [12 13 14 15]]\n",
            "Number of Dimensions: 2\n"
          ]
        }
      ]
    },
    {
      "cell_type": "code",
      "source": [
        "#List 2.17\n",
        "#.ravel() flattens the array into a 1-dimensional array.\n",
        "#By default, it follows the memory layout (C-order: row by row).\n",
        "dizi=np.array([[2,5,7], [3,6,8]])\n",
        "print(dizi)\n",
        "x=dizi.ravel()\n",
        "print(x)"
      ],
      "metadata": {
        "colab": {
          "base_uri": "https://localhost:8080/"
        },
        "id": "kWJrIi77dO4E",
        "outputId": "30a8e94a-e20b-4196-bd2c-66cc12d8d002"
      },
      "execution_count": 52,
      "outputs": [
        {
          "output_type": "stream",
          "name": "stdout",
          "text": [
            "[[2 5 7]\n",
            " [3 6 8]]\n",
            "[2 5 7 3 6 8]\n"
          ]
        }
      ]
    },
    {
      "cell_type": "code",
      "source": [
        "array_100 = np.arange(101)\n",
        "print(\"Original array:\", array_100)\n",
        "\n",
        "split_array = np.split(array_100, [50,60])\n",
        "print(\"Array split at index 50:\", split_array)"
      ],
      "metadata": {
        "colab": {
          "base_uri": "https://localhost:8080/"
        },
        "id": "vNTSvHu95ssV",
        "outputId": "f83e32f0-da39-42b1-ee2e-90e23f13d014"
      },
      "execution_count": 86,
      "outputs": [
        {
          "output_type": "stream",
          "name": "stdout",
          "text": [
            "Original array: [  0   1   2   3   4   5   6   7   8   9  10  11  12  13  14  15  16  17\n",
            "  18  19  20  21  22  23  24  25  26  27  28  29  30  31  32  33  34  35\n",
            "  36  37  38  39  40  41  42  43  44  45  46  47  48  49  50  51  52  53\n",
            "  54  55  56  57  58  59  60  61  62  63  64  65  66  67  68  69  70  71\n",
            "  72  73  74  75  76  77  78  79  80  81  82  83  84  85  86  87  88  89\n",
            "  90  91  92  93  94  95  96  97  98  99 100]\n",
            "Array split at index 50: [array([ 0,  1,  2,  3,  4,  5,  6,  7,  8,  9, 10, 11, 12, 13, 14, 15, 16,\n",
            "       17, 18, 19, 20, 21, 22, 23, 24, 25, 26, 27, 28, 29, 30, 31, 32, 33,\n",
            "       34, 35, 36, 37, 38, 39, 40, 41, 42, 43, 44, 45, 46, 47, 48, 49]), array([50, 51, 52, 53, 54, 55, 56, 57, 58, 59]), array([ 60,  61,  62,  63,  64,  65,  66,  67,  68,  69,  70,  71,  72,\n",
            "        73,  74,  75,  76,  77,  78,  79,  80,  81,  82,  83,  84,  85,\n",
            "        86,  87,  88,  89,  90,  91,  92,  93,  94,  95,  96,  97,  98,\n",
            "        99, 100])]\n"
          ]
        }
      ]
    },
    {
      "cell_type": "code",
      "source": [
        "#List 2.18\n",
        "dizi1 = np.array([4, 6, 8, 9])\n",
        "dizi2 = np.array([2, 4, 3, 5])\n",
        "print(\"Sum  =\", dizi1 + dizi2)\n",
        "print(\"Difference  =\", dizi1 - dizi2)\n",
        "print(\"Multiplication  =\", dizi1 * dizi2)\n",
        "print(\"Division (float)  =\", dizi1 / dizi2)\n",
        "print(\"Division (integer)  =\", dizi1 // dizi2)\n",
        "print(\"Remainder  =\", dizi1 % dizi2)\n",
        "print(\"Power =\", dizi1 ** dizi2)"
      ],
      "metadata": {
        "colab": {
          "base_uri": "https://localhost:8080/"
        },
        "id": "KC-iFGLedR7L",
        "outputId": "41bd47b0-a685-4649-8440-3f7e4b459aec"
      },
      "execution_count": 53,
      "outputs": [
        {
          "output_type": "stream",
          "name": "stdout",
          "text": [
            "Sum  = [ 6 10 11 14]\n",
            "Difference  = [2 2 5 4]\n",
            "Multiplication  = [ 8 24 24 45]\n",
            "Division (float)  = [2.         1.5        2.66666667 1.8       ]\n",
            "Division (integer)  = [2 1 2 1]\n",
            "Remainder  = [0 2 2 4]\n",
            "Power = [   16  1296   512 59049]\n"
          ]
        }
      ]
    },
    {
      "cell_type": "code",
      "source": [
        "#List 2.19\n",
        "dizi = np.array([[1, 2.5, 6], [8, 20, 11]])\n",
        "for i in (dizi.min, dizi.max, dizi.sum, dizi.prod, dizi.std, dizi.var):\n",
        "    print(i.__name__, \"=\", i())"
      ],
      "metadata": {
        "colab": {
          "base_uri": "https://localhost:8080/"
        },
        "id": "DCj6Yz-5dU_d",
        "outputId": "f0855067-dbf0-46f1-8808-f2aa9adac96b"
      },
      "execution_count": 54,
      "outputs": [
        {
          "output_type": "stream",
          "name": "stdout",
          "text": [
            "min = 1.0\n",
            "max = 20.0\n",
            "sum = 48.5\n",
            "prod = 26400.0\n",
            "std = 6.274396828027022\n",
            "var = 39.36805555555556\n"
          ]
        }
      ]
    },
    {
      "cell_type": "code",
      "source": [
        "#List 2.20\n",
        "#Takes the ceiling value of the number -> rounded up after the decimal point\n",
        "#Checks for \"Not a Number (NaN)\" values.\n",
        "dizi = np.array([[1, 2.5, 6], [8, 20, 11]])\n",
        "for i in (np.abs, np.sqrt, np.ceil, np.isnan):\n",
        "    print(\"\\n\", i.__name__)\n",
        "    print(i(dizi))"
      ],
      "metadata": {
        "colab": {
          "base_uri": "https://localhost:8080/"
        },
        "id": "CpCMAwRndXR7",
        "outputId": "8eaf9100-e5b2-4321-e959-79b119ef3508"
      },
      "execution_count": 55,
      "outputs": [
        {
          "output_type": "stream",
          "name": "stdout",
          "text": [
            "\n",
            " absolute\n",
            "[[ 1.   2.5  6. ]\n",
            " [ 8.  20.  11. ]]\n",
            "\n",
            " sqrt\n",
            "[[1.         1.58113883 2.44948974]\n",
            " [2.82842712 4.47213595 3.31662479]]\n",
            "\n",
            " ceil\n",
            "[[ 1.  3.  6.]\n",
            " [ 8. 20. 11.]]\n",
            "\n",
            " isnan\n",
            "[[False False False]\n",
            " [False False False]]\n"
          ]
        }
      ]
    },
    {
      "cell_type": "code",
      "source": [
        "#List 2.21\n",
        "dizi=np.array([5,12,4,-2,15,6,8,0])"
      ],
      "metadata": {
        "id": "GPTSD5E6daid"
      },
      "execution_count": 56,
      "outputs": []
    },
    {
      "cell_type": "code",
      "source": [
        "#List 2.22\n",
        "print(dizi[4])\n",
        "print(dizi[1:5])"
      ],
      "metadata": {
        "colab": {
          "base_uri": "https://localhost:8080/"
        },
        "id": "GPUWFYZqdeKN",
        "outputId": "ddcdf40d-b2c4-428d-ad6c-e68503d235fb"
      },
      "execution_count": 57,
      "outputs": [
        {
          "output_type": "stream",
          "name": "stdout",
          "text": [
            "15\n",
            "[12  4 -2 15]\n"
          ]
        }
      ]
    },
    {
      "cell_type": "code",
      "source": [
        "#List 2.23\n",
        "print(dizi[3:-1])"
      ],
      "metadata": {
        "colab": {
          "base_uri": "https://localhost:8080/"
        },
        "id": "AMq08C7gdgS9",
        "outputId": "b02566aa-5866-41f4-e423-ac252ffd5351"
      },
      "execution_count": 58,
      "outputs": [
        {
          "output_type": "stream",
          "name": "stdout",
          "text": [
            "[-2 15  6  8]\n"
          ]
        }
      ]
    },
    {
      "cell_type": "code",
      "source": [
        "#List 2.24\n",
        "print(dizi[:4])"
      ],
      "metadata": {
        "colab": {
          "base_uri": "https://localhost:8080/"
        },
        "id": "2j7aBocsdicN",
        "outputId": "98b78aab-5761-4e36-8dcd-67e61b511208"
      },
      "execution_count": 59,
      "outputs": [
        {
          "output_type": "stream",
          "name": "stdout",
          "text": [
            "[ 5 12  4 -2]\n"
          ]
        }
      ]
    },
    {
      "cell_type": "code",
      "source": [
        "#List 2.25\n",
        "print(dizi[1::2])"
      ],
      "metadata": {
        "colab": {
          "base_uri": "https://localhost:8080/"
        },
        "id": "_9hZNLrLdksu",
        "outputId": "698255da-cd10-420f-e5b0-ff424ebc8b0e"
      },
      "execution_count": 60,
      "outputs": [
        {
          "output_type": "stream",
          "name": "stdout",
          "text": [
            "[12 -2  6  0]\n"
          ]
        }
      ]
    },
    {
      "cell_type": "code",
      "source": [
        "#List 2.26\n",
        "print(dizi[::-1])"
      ],
      "metadata": {
        "colab": {
          "base_uri": "https://localhost:8080/"
        },
        "id": "iSw3RxoLdmrQ",
        "outputId": "5e73c564-5672-43f1-81bb-20ce3e6f955d"
      },
      "execution_count": 61,
      "outputs": [
        {
          "output_type": "stream",
          "name": "stdout",
          "text": [
            "[ 0  8  6 15 -2  4 12  5]\n"
          ]
        }
      ]
    },
    {
      "cell_type": "code",
      "source": [
        "#List 2.27\n",
        "dizi[2:4]=11\n",
        "print(dizi)"
      ],
      "metadata": {
        "colab": {
          "base_uri": "https://localhost:8080/"
        },
        "id": "RVoB9fladpOu",
        "outputId": "dc781757-5146-4278-febb-5f20f81230a4"
      },
      "execution_count": 62,
      "outputs": [
        {
          "output_type": "stream",
          "name": "stdout",
          "text": [
            "[ 5 12 11 11 15  6  8  0]\n"
          ]
        }
      ]
    },
    {
      "cell_type": "code",
      "source": [
        "#List 2.28\n",
        "dizi=np.array([5,12,4,-2,15,6,8,0])\n",
        "print(dizi)\n",
        "yeniDizi=dizi[2:4]\n",
        "print(yeniDizi)\n",
        "dizi[2]=200\n",
        "print(yeniDizi)"
      ],
      "metadata": {
        "colab": {
          "base_uri": "https://localhost:8080/"
        },
        "id": "G0qwfj3sdr3e",
        "outputId": "8077c1a2-a0e9-42f3-c400-add2429b2f83"
      },
      "execution_count": 63,
      "outputs": [
        {
          "output_type": "stream",
          "name": "stdout",
          "text": [
            "[ 5 12  4 -2 15  6  8  0]\n",
            "[ 4 -2]\n",
            "[200  -2]\n"
          ]
        }
      ]
    },
    {
      "cell_type": "code",
      "source": [
        "#List 2.29\n",
        "dizi=np.array([5,12,4,-2,15,6,8,0])\n",
        "print(dizi)\n",
        "yeniDizi=dizi[2:4].copy()\n",
        "print(yeniDizi)\n",
        "dizi[2]=200\n",
        "print(yeniDizi)"
      ],
      "metadata": {
        "colab": {
          "base_uri": "https://localhost:8080/"
        },
        "id": "IADdi56Wdt88",
        "outputId": "6632888d-69af-4a35-bf10-0672a6b57d1d"
      },
      "execution_count": 64,
      "outputs": [
        {
          "output_type": "stream",
          "name": "stdout",
          "text": [
            "[ 5 12  4 -2 15  6  8  0]\n",
            "[ 4 -2]\n",
            "[ 4 -2]\n"
          ]
        }
      ]
    },
    {
      "cell_type": "code",
      "source": [
        "#List 2.30\n",
        "dizi=np.arange(12)\n",
        "dizi.shape=(3,4)\n",
        "print(dizi)\n",
        "print(dizi[2,3])\n",
        "print(dizi[0,:])\n",
        "print(dizi[:,2])"
      ],
      "metadata": {
        "colab": {
          "base_uri": "https://localhost:8080/"
        },
        "id": "HdfZswIpdwHp",
        "outputId": "806923e1-e789-4525-8d84-e34e64179a0e"
      },
      "execution_count": 65,
      "outputs": [
        {
          "output_type": "stream",
          "name": "stdout",
          "text": [
            "[[ 0  1  2  3]\n",
            " [ 4  5  6  7]\n",
            " [ 8  9 10 11]]\n",
            "11\n",
            "[0 1 2 3]\n",
            "[ 2  6 10]\n"
          ]
        }
      ]
    },
    {
      "cell_type": "code",
      "source": [
        "#List 2.31\n",
        "print(dizi[:,(0,2)])\n",
        "print(dizi[(0,1),1:3])"
      ],
      "metadata": {
        "colab": {
          "base_uri": "https://localhost:8080/"
        },
        "id": "F-ZWrXvFdzKN",
        "outputId": "f741b876-2360-4ec6-e624-34fae39e3169"
      },
      "execution_count": 66,
      "outputs": [
        {
          "output_type": "stream",
          "name": "stdout",
          "text": [
            "[[ 0  2]\n",
            " [ 4  6]\n",
            " [ 8 10]]\n",
            "[[1 2]\n",
            " [5 6]]\n"
          ]
        }
      ]
    },
    {
      "cell_type": "code",
      "source": [
        "#List 2.32\n",
        "dizi=np.arange(12)\n",
        "dizi.shape=(3,2,2)\n",
        "print(dizi)\n",
        "print(dizi[1,1,0])\n",
        "print(dizi[1,:,0])"
      ],
      "metadata": {
        "colab": {
          "base_uri": "https://localhost:8080/"
        },
        "id": "3RtT7dDod1qN",
        "outputId": "bff5d522-0911-49bd-b6d7-b7af1e542323"
      },
      "execution_count": 67,
      "outputs": [
        {
          "output_type": "stream",
          "name": "stdout",
          "text": [
            "[[[ 0  1]\n",
            "  [ 2  3]]\n",
            "\n",
            " [[ 4  5]\n",
            "  [ 6  7]]\n",
            "\n",
            " [[ 8  9]\n",
            "  [10 11]]]\n",
            "6\n",
            "[4 6]\n"
          ]
        }
      ]
    },
    {
      "cell_type": "code",
      "source": [
        "#List 2.33\n",
        "dizi1 = np.full((2,4), 0.0)\n",
        "dizi2 = np.full((3,4), 1.0)\n",
        "dizi3 = np.full((4,4), 2.0)\n",
        "print(dizi1);print(dizi2);print(dizi3)\n",
        "dizi4 = np.concatenate((dizi1, dizi2, dizi3), axis=0)\n",
        "print(dizi4)"
      ],
      "metadata": {
        "colab": {
          "base_uri": "https://localhost:8080/"
        },
        "id": "nbseU5Dfd34D",
        "outputId": "0ff36e93-0ea1-4015-ec4c-bc17efb89891"
      },
      "execution_count": 68,
      "outputs": [
        {
          "output_type": "stream",
          "name": "stdout",
          "text": [
            "[[0. 0. 0. 0.]\n",
            " [0. 0. 0. 0.]]\n",
            "[[1. 1. 1. 1.]\n",
            " [1. 1. 1. 1.]\n",
            " [1. 1. 1. 1.]]\n",
            "[[2. 2. 2. 2.]\n",
            " [2. 2. 2. 2.]\n",
            " [2. 2. 2. 2.]\n",
            " [2. 2. 2. 2.]]\n",
            "[[0. 0. 0. 0.]\n",
            " [0. 0. 0. 0.]\n",
            " [1. 1. 1. 1.]\n",
            " [1. 1. 1. 1.]\n",
            " [1. 1. 1. 1.]\n",
            " [2. 2. 2. 2.]\n",
            " [2. 2. 2. 2.]\n",
            " [2. 2. 2. 2.]\n",
            " [2. 2. 2. 2.]]\n"
          ]
        }
      ]
    },
    {
      "cell_type": "code",
      "source": [
        "#List 2.34\n",
        "dizi1 = np.full((2,4), 0.0)\n",
        "dizi2 = np.full((2,4), 1.0)\n",
        "print(dizi1);print(dizi2)\n",
        "dizi3 = np.concatenate((dizi1, dizi2), axis=1)\n",
        "print(dizi3)"
      ],
      "metadata": {
        "colab": {
          "base_uri": "https://localhost:8080/"
        },
        "id": "yeS_rJ6Ad6gS",
        "outputId": "0b167ac8-ec45-4c9a-b3a1-00c3e05abfcc"
      },
      "execution_count": 69,
      "outputs": [
        {
          "output_type": "stream",
          "name": "stdout",
          "text": [
            "[[0. 0. 0. 0.]\n",
            " [0. 0. 0. 0.]]\n",
            "[[1. 1. 1. 1.]\n",
            " [1. 1. 1. 1.]]\n",
            "[[0. 0. 0. 0. 1. 1. 1. 1.]\n",
            " [0. 0. 0. 0. 1. 1. 1. 1.]]\n"
          ]
        }
      ]
    },
    {
      "cell_type": "code",
      "source": [
        "#List 2.35\n",
        "dizi1= np.arange(12.0)\n",
        "print(np.split(dizi1,4))"
      ],
      "metadata": {
        "id": "tnuawTGsiok5",
        "outputId": "004caa06-3353-4087-9474-4731b0d41a1b",
        "colab": {
          "base_uri": "https://localhost:8080/"
        }
      },
      "execution_count": 70,
      "outputs": [
        {
          "output_type": "stream",
          "name": "stdout",
          "text": [
            "[array([0., 1., 2.]), array([3., 4., 5.]), array([6., 7., 8.]), array([ 9., 10., 11.])]\n"
          ]
        }
      ]
    },
    {
      "cell_type": "code",
      "source": [
        "# Example of np.array_split (List 2.36)\n",
        "dizi1 = np.arange(12.0)\n",
        "print(\"Original array:\", dizi1)\n",
        "print(\"Splitting into 5 sections using np.array_split:\")\n",
        "print(np.array_split(dizi1, 5))\n",
        "\n",
        "dizi2 = np.arange(10.0).reshape(2, 5)\n",
        "print(\"\\nOriginal 2D array:\\n\", dizi2)\n",
        "print(\"Splitting into 3 sections along axis 1 using np.array_split:\")\n",
        "print(np.array_split(dizi2, 3, axis=1))"
      ],
      "metadata": {
        "colab": {
          "base_uri": "https://localhost:8080/"
        },
        "id": "kyrpES2KypgN",
        "outputId": "786a8041-16e8-43f4-9d6e-1e082ad6860d"
      },
      "execution_count": 71,
      "outputs": [
        {
          "output_type": "stream",
          "name": "stdout",
          "text": [
            "Original array: [ 0.  1.  2.  3.  4.  5.  6.  7.  8.  9. 10. 11.]\n",
            "Splitting into 5 sections using np.array_split:\n",
            "[array([0., 1., 2.]), array([3., 4., 5.]), array([6., 7.]), array([8., 9.]), array([10., 11.])]\n",
            "\n",
            "Original 2D array:\n",
            " [[0. 1. 2. 3. 4.]\n",
            " [5. 6. 7. 8. 9.]]\n",
            "Splitting into 3 sections along axis 1 using np.array_split:\n",
            "[array([[0., 1.],\n",
            "       [5., 6.]]), array([[2., 3.],\n",
            "       [7., 8.]]), array([[4.],\n",
            "       [9.]])]\n"
          ]
        }
      ]
    },
    {
      "cell_type": "code",
      "source": [
        "# More NumPy operations\n",
        "\n",
        "# Reshaping arrays\n",
        "dizi = np.arange(12).reshape(3, 4)\n",
        "print(\"\\nOriginal array:\\n\", dizi)\n",
        "print(\"\\nReshaped to (4, 3):\\n\", dizi.reshape(4, 3))\n",
        "\n",
        "# Transposing arrays\n",
        "print(\"\\nTransposed array:\\n\", dizi.T)\n",
        "\n",
        "# Stacking arrays\n",
        "dizi1 = np.array([1, 2, 3])\n",
        "dizi2 = np.array([4, 5, 6])\n",
        "print(\"\\nStacking arrays vertically (vstack):\\n\", np.vstack((dizi1, dizi2)))\n",
        "print(\"\\nStacking arrays horizontally (hstack):\\n\", np.hstack((dizi1, dizi2)))\n",
        "\n",
        "# Broadcasting (adding a scalar to an array)\n",
        "print(\"\\nArray + scalar (5):\\n\", dizi + 5)\n",
        "\n",
        "# Universal functions (ufuncs)\n",
        "print(\"\\nApplying np.sin to the array:\\n\", np.sin(dizi))\n",
        "\n",
        "# Boolean indexing\n",
        "print(\"\\nElements greater than 5:\\n\", dizi[dizi > 5])\n",
        "\n",
        "# Sorting\n",
        "dizi = np.array([9, 3, 7, 1, 5, 2, 8, 4, 6])\n",
        "print(\"\\nOriginal array for sorting:\", dizi)\n",
        "print(\"\\nSorted array:\", np.sort(dizi))\n",
        "\n",
        "# Aggregations (mean, median, etc.)\n",
        "dizi = np.arange(12).reshape(3, 4)\n",
        "print(\"\\nOriginal array for aggregations:\\n\", dizi)\n",
        "print(\"\\nMean of the array:\", np.mean(dizi))\n",
        "print(\"\\nMedian of the array:\", np.median(dizi))\n",
        "print(\"\\nSum of elements along axis 0:\", np.sum(dizi, axis=0))"
      ],
      "metadata": {
        "colab": {
          "base_uri": "https://localhost:8080/"
        },
        "id": "4IFLfNth0g6g",
        "outputId": "aac59e56-dcc9-4757-833c-9c695047e8cc"
      },
      "execution_count": 72,
      "outputs": [
        {
          "output_type": "stream",
          "name": "stdout",
          "text": [
            "\n",
            "Original array:\n",
            " [[ 0  1  2  3]\n",
            " [ 4  5  6  7]\n",
            " [ 8  9 10 11]]\n",
            "\n",
            "Reshaped to (4, 3):\n",
            " [[ 0  1  2]\n",
            " [ 3  4  5]\n",
            " [ 6  7  8]\n",
            " [ 9 10 11]]\n",
            "\n",
            "Transposed array:\n",
            " [[ 0  4  8]\n",
            " [ 1  5  9]\n",
            " [ 2  6 10]\n",
            " [ 3  7 11]]\n",
            "\n",
            "Stacking arrays vertically (vstack):\n",
            " [[1 2 3]\n",
            " [4 5 6]]\n",
            "\n",
            "Stacking arrays horizontally (hstack):\n",
            " [1 2 3 4 5 6]\n",
            "\n",
            "Array + scalar (5):\n",
            " [[ 5  6  7  8]\n",
            " [ 9 10 11 12]\n",
            " [13 14 15 16]]\n",
            "\n",
            "Applying np.sin to the array:\n",
            " [[ 0.          0.84147098  0.90929743  0.14112001]\n",
            " [-0.7568025  -0.95892427 -0.2794155   0.6569866 ]\n",
            " [ 0.98935825  0.41211849 -0.54402111 -0.99999021]]\n",
            "\n",
            "Elements greater than 5:\n",
            " [ 6  7  8  9 10 11]\n",
            "\n",
            "Original array for sorting: [9 3 7 1 5 2 8 4 6]\n",
            "\n",
            "Sorted array: [1 2 3 4 5 6 7 8 9]\n",
            "\n",
            "Original array for aggregations:\n",
            " [[ 0  1  2  3]\n",
            " [ 4  5  6  7]\n",
            " [ 8  9 10 11]]\n",
            "\n",
            "Mean of the array: 5.5\n",
            "\n",
            "Median of the array: 5.5\n",
            "\n",
            "Sum of elements along axis 0: [12 15 18 21]\n"
          ]
        }
      ]
    }
  ]
}