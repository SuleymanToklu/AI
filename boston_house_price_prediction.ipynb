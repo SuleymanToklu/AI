{
  "nbformat": 4,
  "nbformat_minor": 0,
  "metadata": {
    "colab": {
      "provenance": [],
      "authorship_tag": "ABX9TyOv9PGAmrc4tJCSfTdDY4iE",
      "include_colab_link": true
    },
    "kernelspec": {
      "name": "python3",
      "display_name": "Python 3"
    },
    "language_info": {
      "name": "python"
    }
  },
  "cells": [
    {
      "cell_type": "markdown",
      "metadata": {
        "id": "view-in-github",
        "colab_type": "text"
      },
      "source": [
        "<a href=\"https://colab.research.google.com/github/SuleymanToklu/AI/blob/main/boston_house_price_prediction.ipynb\" target=\"_parent\"><img src=\"https://colab.research.google.com/assets/colab-badge.svg\" alt=\"Open In Colab\"/></a>"
      ]
    },
    {
      "cell_type": "markdown",
      "source": [
        "## Import Libraries and Load Data"
      ],
      "metadata": {
        "id": "JxgLlw497u0c"
      }
    },
    {
      "cell_type": "code",
      "execution_count": 8,
      "metadata": {
        "id": "yJVlEfD94l_g",
        "colab": {
          "base_uri": "https://localhost:8080/"
        },
        "outputId": "1653fc35-0d6f-4f31-b7e5-f53049529015"
      },
      "outputs": [
        {
          "output_type": "stream",
          "name": "stdout",
          "text": [
            "Setup Complete: Libraries imported and constants defined.\n"
          ]
        }
      ],
      "source": [
        "# --- Libraries ---\n",
        "import pandas as pd\n",
        "import numpy as np\n",
        "import matplotlib.pyplot as plt\n",
        "import seaborn as sns\n",
        "from sklearn.model_selection import train_test_split\n",
        "from sklearn.preprocessing import StandardScaler\n",
        "from sklearn.ensemble import RandomForestRegressor\n",
        "from sklearn.metrics import mean_squared_error, r2_score\n",
        "from sklearn.model_selection import GridSearchCV\n",
        "\n",
        "# --- Constants ---\n",
        "# This makes it easy to change data sources or parameters later.\n",
        "DATA_URL = \"http://lib.stat.cmu.edu/datasets/boston\"\n",
        "FEATURE_NAMES = ['CRIM', 'ZN', 'INDUS', 'CHAS', 'NOX', 'RM', 'AGE', 'DIS', 'RAD', 'TAX', 'PTRATIO', 'B', 'LSTAT']\n",
        "TARGET_NAME = 'PRICE'\n",
        "TEST_SIZE = 0.2\n",
        "RANDOM_STATE = 42\n",
        "\n",
        "print(\"Setup Complete: Libraries imported and constants defined.\")"
      ]
    },
    {
      "cell_type": "code",
      "source": [
        "# --- Load Data ---\n",
        "# Fetch the data from the URL and construct the DataFrame.\n",
        "raw_df = pd.read_csv(DATA_URL, sep=r\"\\s+\", skiprows=22, header=None)\n",
        "data = np.hstack([raw_df.values[::2, :], raw_df.values[1::2, :2]])\n",
        "target = raw_df.values[1::2, 2]\n",
        "\n",
        "# --- Create DataFrame ---\n",
        "X = pd.DataFrame(data, columns=FEATURE_NAMES)\n",
        "y = pd.Series(target, name=TARGET_NAME)\n",
        "\n",
        "# Combine features and target for initial inspection\n",
        "df_initial = pd.concat([X, y], axis=1)\n",
        "\n",
        "# --- Initial Inspection ---\n",
        "print(\"--- First 5 Rows of the Dataset ---\")\n",
        "print(df_initial.head())\n",
        "print(\"\\n--- Dataset Info ---\")\n",
        "df_initial.info()"
      ],
      "metadata": {
        "colab": {
          "base_uri": "https://localhost:8080/"
        },
        "id": "rKHeJhMJ63B_",
        "outputId": "c10fc796-ddb4-42a4-f44a-a1874d76b2a0"
      },
      "execution_count": 9,
      "outputs": [
        {
          "output_type": "stream",
          "name": "stdout",
          "text": [
            "--- First 5 Rows of the Dataset ---\n",
            "      CRIM    ZN  INDUS  CHAS    NOX     RM   AGE     DIS  RAD    TAX  \\\n",
            "0  0.00632  18.0   2.31   0.0  0.538  6.575  65.2  4.0900  1.0  296.0   \n",
            "1  0.02731   0.0   7.07   0.0  0.469  6.421  78.9  4.9671  2.0  242.0   \n",
            "2  0.02729   0.0   7.07   0.0  0.469  7.185  61.1  4.9671  2.0  242.0   \n",
            "3  0.03237   0.0   2.18   0.0  0.458  6.998  45.8  6.0622  3.0  222.0   \n",
            "4  0.06905   0.0   2.18   0.0  0.458  7.147  54.2  6.0622  3.0  222.0   \n",
            "\n",
            "   PTRATIO       B  LSTAT  PRICE  \n",
            "0     15.3  396.90   4.98   24.0  \n",
            "1     17.8  396.90   9.14   21.6  \n",
            "2     17.8  392.83   4.03   34.7  \n",
            "3     18.7  394.63   2.94   33.4  \n",
            "4     18.7  396.90   5.33   36.2  \n",
            "\n",
            "--- Dataset Info ---\n",
            "<class 'pandas.core.frame.DataFrame'>\n",
            "RangeIndex: 506 entries, 0 to 505\n",
            "Data columns (total 14 columns):\n",
            " #   Column   Non-Null Count  Dtype  \n",
            "---  ------   --------------  -----  \n",
            " 0   CRIM     506 non-null    float64\n",
            " 1   ZN       506 non-null    float64\n",
            " 2   INDUS    506 non-null    float64\n",
            " 3   CHAS     506 non-null    float64\n",
            " 4   NOX      506 non-null    float64\n",
            " 5   RM       506 non-null    float64\n",
            " 6   AGE      506 non-null    float64\n",
            " 7   DIS      506 non-null    float64\n",
            " 8   RAD      506 non-null    float64\n",
            " 9   TAX      506 non-null    float64\n",
            " 10  PTRATIO  506 non-null    float64\n",
            " 11  B        506 non-null    float64\n",
            " 12  LSTAT    506 non-null    float64\n",
            " 13  PRICE    506 non-null    float64\n",
            "dtypes: float64(14)\n",
            "memory usage: 55.5 KB\n"
          ]
        }
      ]
    },
    {
      "cell_type": "markdown",
      "source": [
        "## FEATURES - Feature Engineering & Preprocessing"
      ],
      "metadata": {
        "id": "B_7IxuIr7qrj"
      }
    },
    {
      "cell_type": "code",
      "source": [
        "# --- Split the Data ---\n",
        "# Separate data into training and testing sets before any scaling.\n",
        "# This prevents data leakage from the test set into the training process.\n",
        "X_train, X_test, y_train, y_test = train_test_split(\n",
        "    X, y, test_size=TEST_SIZE, random_state=RANDOM_STATE\n",
        ")\n",
        "\n",
        "# --- Scale the Features ---\n",
        "# Use StandardScaler to standardize features by removing the mean and scaling to unit variance.\n",
        "# It's important to fit the scaler ONLY on the training data.\n",
        "scaler = StandardScaler()\n",
        "X_train_scaled = scaler.fit_transform(X_train)\n",
        "X_test_scaled = scaler.transform(X_test)\n",
        "\n",
        "# Convert scaled arrays back to DataFrames for clarity\n",
        "X_train_scaled = pd.DataFrame(X_train_scaled, columns=FEATURE_NAMES)\n",
        "X_test_scaled = pd.DataFrame(X_test_scaled, columns=FEATURE_NAMES)\n",
        "\n",
        "\n",
        "print(\"Data split and scaled successfully.\")\n",
        "print(f\"Training features shape: {X_train_scaled.shape}\")\n",
        "print(f\"Testing features shape: {X_test_scaled.shape}\")\n",
        "print(\"\\n--- First 5 Rows of Scaled Training Data ---\")\n",
        "print(X_train_scaled.head())"
      ],
      "metadata": {
        "colab": {
          "base_uri": "https://localhost:8080/"
        },
        "id": "QRK11pDC7C0T",
        "outputId": "6178ca08-b8bc-4995-fe99-583f477a64db"
      },
      "execution_count": 10,
      "outputs": [
        {
          "output_type": "stream",
          "name": "stdout",
          "text": [
            "Data split and scaled successfully.\n",
            "Training features shape: (404, 13)\n",
            "Testing features shape: (102, 13)\n",
            "\n",
            "--- First 5 Rows of Scaled Training Data ---\n",
            "       CRIM        ZN     INDUS      CHAS       NOX        RM       AGE  \\\n",
            "0  1.287702 -0.500320  1.033237 -0.278089  0.489252 -1.428069  1.028015   \n",
            "1 -0.336384 -0.500320 -0.413160 -0.278089 -0.157233 -0.680087 -0.431199   \n",
            "2 -0.403253  1.013271 -0.715218 -0.278089 -1.008723 -0.402063 -1.618599   \n",
            "3  0.388230 -0.500320  1.033237 -0.278089  0.489252 -0.300450  0.591681   \n",
            "4 -0.325282 -0.500320 -0.413160 -0.278089 -0.157233 -0.831094  0.033747   \n",
            "\n",
            "        DIS       RAD       TAX   PTRATIO         B     LSTAT  \n",
            "0 -0.802173  1.706891  1.578434  0.845343 -0.074337  1.753505  \n",
            "1  0.324349 -0.624360 -0.584648  1.204741  0.430184 -0.561474  \n",
            "2  1.330697 -0.974048 -0.602724 -0.637176  0.065297 -0.651595  \n",
            "3 -0.839240  1.706891  1.578434  0.845343 -3.868193  1.525387  \n",
            "4 -0.005494 -0.624360 -0.584648  1.204741  0.379119 -0.165787  \n"
          ]
        }
      ]
    },
    {
      "cell_type": "markdown",
      "source": [
        "## MODELS - Train the Model\n"
      ],
      "metadata": {
        "id": "KX_-L2bW7mJ4"
      }
    },
    {
      "cell_type": "code",
      "source": [
        "# --- Initialize the Model ---\n",
        "# RandomForestRegressor is a powerful ensemble model.\n",
        "# n_estimators is the number of trees in the forest.\n",
        "# random_state ensures reproducibility.\n",
        "model = RandomForestRegressor(n_estimators=100, random_state=RANDOM_STATE)\n",
        "\n",
        "\n",
        "# --- Train the Model ---\n",
        "# Fit the model on the scaled training data.\n",
        "model.fit(X_train_scaled, y_train)\n",
        "\n",
        "print(\"Model training complete.\")\n",
        "print(f\"Model: {type(model).__name__}\")"
      ],
      "metadata": {
        "colab": {
          "base_uri": "https://localhost:8080/"
        },
        "id": "PiUte14n7HTc",
        "outputId": "536701fe-7b6b-4288-c939-2a7fb9243fe9"
      },
      "execution_count": 11,
      "outputs": [
        {
          "output_type": "stream",
          "name": "stdout",
          "text": [
            "Model training complete.\n",
            "Model: RandomForestRegressor\n"
          ]
        }
      ]
    },
    {
      "cell_type": "markdown",
      "source": [
        "## EVALUATION - Predict and Evaluate"
      ],
      "metadata": {
        "id": "xY9bfVOi7jSN"
      }
    },
    {
      "cell_type": "code",
      "source": [
        "# --- Make Predictions ---\n",
        "# Use the trained model to make predictions on the scaled test data.\n",
        "y_pred = model.predict(X_test_scaled)\n",
        "\n",
        "# --- Evaluate Metrics ---\n",
        "# Calculate MSE and R2 score to understand model performance.\n",
        "mse = mean_squared_error(y_test, y_pred)\n",
        "r2 = r2_score(y_test, y_pred)\n",
        "\n",
        "print(\"--- Model Performance ---\")\n",
        "print(f\"Mean Squared Error (MSE): {mse:.2f}\")\n",
        "print(f\"R-squared (R2) Score: {r2:.2f}\")\n",
        "\n",
        "# --- Sample Prediction Check ---\n",
        "# Compare prediction with actual value for one sample.\n",
        "sample_index = 0\n",
        "actual_price = y_test.iloc[sample_index]\n",
        "predicted_price = y_pred[sample_index]\n",
        "\n",
        "print(\"\\n--- Sample Prediction ---\")\n",
        "print(f\"Actual Price: ${actual_price * 1000:,.2f}\")\n",
        "print(f\"Predicted Price: ${predicted_price * 1000:,.2f}\")"
      ],
      "metadata": {
        "colab": {
          "base_uri": "https://localhost:8080/"
        },
        "id": "Viu-vvgD7M_K",
        "outputId": "4033e544-db40-4f79-8a1f-ec09b39d834c"
      },
      "execution_count": 12,
      "outputs": [
        {
          "output_type": "stream",
          "name": "stdout",
          "text": [
            "--- Model Performance ---\n",
            "Mean Squared Error (MSE): 7.91\n",
            "R-squared (R2) Score: 0.89\n",
            "\n",
            "--- Sample Prediction ---\n",
            "Actual Price: $23,600.00\n",
            "Predicted Price: $22,839.00\n"
          ]
        }
      ]
    },
    {
      "cell_type": "markdown",
      "source": [
        "## VISUALIZATION - Visualize Results\n"
      ],
      "metadata": {
        "id": "UAWlotgw7d7u"
      }
    },
    {
      "cell_type": "code",
      "source": [
        "# --- Create Scatter Plot of Predictions vs Actuals ---\n",
        "# A perfect model would have all points on the 45-degree line.\n",
        "plt.figure(figsize=(10, 6))\n",
        "sns.scatterplot(x=y_test, y=y_pred, alpha=0.6)\n",
        "\n",
        "# --- Add the \"Perfect Prediction\" line ---\n",
        "# This line represents where y_test equals y_pred.\n",
        "max_val = max(y_test.max(), y_pred.max())\n",
        "min_val = min(y_test.min(), y_pred.min())\n",
        "plt.plot([min_val, max_val], [min_val, max_val], color='red', linestyle='--', lw=2, label='Perfect Prediction')\n",
        "\n",
        "# --- Final Touches ---\n",
        "plt.title('Actual Prices vs. Predicted Prices', fontsize=16)\n",
        "plt.xlabel('Actual Prices ($1000s)', fontsize=12)\n",
        "plt.ylabel('Predicted Prices ($1000s)', fontsize=12)\n",
        "plt.legend()\n",
        "plt.grid(True)\n",
        "plt.show()"
      ],
      "metadata": {
        "colab": {
          "base_uri": "https://localhost:8080/",
          "height": 570
        },
        "id": "XFU3kPTD7Pp8",
        "outputId": "926f1e4c-638e-4bee-d4d2-b2d75f98be46"
      },
      "execution_count": 13,
      "outputs": [
        {
          "output_type": "display_data",
          "data": {
            "text/plain": [
              "<Figure size 1000x600 with 1 Axes>"
            ],
            "image/png": "[encoded data removed]"
          },
          "metadata": {}
        }
      ]
    },
    {
      "cell_type": "markdown",
      "source": [
        "## TUNING - Hyperparameter Optimization with GridSearchCV"
      ],
      "metadata": {
        "id": "U7OLFVP57_0z"
      }
    },
    {
      "cell_type": "code",
      "source": [
        "# --- Define the Parameter Grid ---\n",
        "# These are the hyperparameters we want to test.\n",
        "# This is a small grid to keep the runtime short.\n",
        "param_grid = {\n",
        "    'n_estimators': [100, 200, 300],       # Number of trees in the forest\n",
        "    'max_depth': [10, 20, None],           # Maximum depth of the tree\n",
        "    'min_samples_leaf': [1, 2, 4]          # Minimum number of samples required at a leaf node\n",
        "}\n",
        "\n",
        "# --- Initialize GridSearchCV ---\n",
        "# It will test all combinations from the param_grid using 5-fold cross-validation.\n",
        "# n_jobs=-1 uses all available CPU cores to speed up the process.\n",
        "grid_search = GridSearchCV(\n",
        "    estimator=RandomForestRegressor(random_state=RANDOM_STATE),\n",
        "    param_grid=param_grid,\n",
        "    cv=5,\n",
        "    n_jobs=-1,\n",
        "    verbose=2, # Shows progress\n",
        "    scoring='r2'\n",
        ")\n",
        "\n",
        "# --- Fit the Grid Search ---\n",
        "# This process finds the best model by training on the (scaled) training data.\n",
        "grid_search.fit(X_train_scaled, y_train)\n",
        "\n",
        "# --- Get the Best Model ---\n",
        "best_model = grid_search.best_estimator_\n",
        "\n",
        "print(\"\\n--- Hyperparameter Tuning Complete ---\")\n",
        "print(f\"Best Parameters Found: {grid_search.best_params_}\")\n",
        "print(f\"Best R2 Score on Cross-Validation: {grid_search.best_score_:.4f}\")\n",
        "\n",
        "# --- Re-evaluate with the Best Model ---\n",
        "y_pred_best = best_model.predict(X_test_scaled)\n",
        "r2_best = r2_score(y_test, y_pred_best)\n",
        "\n",
        "print(f\"\\nTest Set R2 Score with Best Model: {r2_best:.4f}\")"
      ],
      "metadata": {
        "colab": {
          "base_uri": "https://localhost:8080/"
        },
        "id": "PX_Ye0_07TBH",
        "outputId": "22371b3c-e43a-4610-d56b-0269c46037da"
      },
      "execution_count": 14,
      "outputs": [
        {
          "output_type": "stream",
          "name": "stdout",
          "text": [
            "Fitting 5 folds for each of 27 candidates, totalling 135 fits\n",
            "\n",
            "--- Hyperparameter Tuning Complete ---\n",
            "Best Parameters Found: {'max_depth': None, 'min_samples_leaf': 1, 'n_estimators': 100}\n",
            "Best R2 Score on Cross-Validation: 0.8262\n",
            "\n",
            "Test Set R2 Score with Best Model: 0.8921\n"
          ]
        }
      ]
    },
    {
      "cell_type": "markdown",
      "source": [
        "## ANALYSIS - Visualize Feature Importances"
      ],
      "metadata": {
        "id": "WUqU45Ow8m0Z"
      }
    },
    {
      "cell_type": "code",
      "source": [
        "# --- Get Feature Importances ---\n",
        "# Get the importance scores from our 'best_model' found by GridSearchCV.\n",
        "importances = best_model.feature_importances_\n",
        "\n",
        "# --- Create a DataFrame for easy plotting ---\n",
        "feature_importance_df = pd.DataFrame({\n",
        "    'Feature': FEATURE_NAMES,\n",
        "    'Importance': importances\n",
        "}).sort_values(by='Importance', ascending=False)\n",
        "\n",
        "\n",
        "# --- Plot the results ---\n",
        "plt.figure(figsize=(12, 8))\n",
        "sns.barplot(x='Importance', y='Feature', data=feature_importance_df)\n",
        "plt.title('Feature Importances from Best Model', fontsize=16)\n",
        "plt.xlabel('Importance Score', fontsize=12)\n",
        "plt.ylabel('Feature', fontsize=12)\n",
        "plt.grid(True, axis='x')\n",
        "plt.show()\n",
        "\n",
        "print(\"\\n--- Top 5 Most Important Features ---\")\n",
        "print(feature_importance_df.head())"
      ],
      "metadata": {
        "colab": {
          "base_uri": "https://localhost:8080/",
          "height": 867
        },
        "id": "m_MPl2rH7-rm",
        "outputId": "1361c69a-fa5b-4a30-b487-5fecb3702c88"
      },
      "execution_count": 15,
      "outputs": [
        {
          "output_type": "display_data",
          "data": {
            "text/plain": [
              "<Figure size 1200x800 with 1 Axes>"
            ],
            "image/png": "[encoded data removed]"
          },
          "metadata": {}
        },
        {
          "output_type": "stream",
          "name": "stdout",
          "text": [
            "\n",
            "--- Top 5 Most Important Features ---\n",
            "    Feature  Importance\n",
            "5        RM    0.503845\n",
            "12    LSTAT    0.309509\n",
            "7       DIS    0.060549\n",
            "0      CRIM    0.038062\n",
            "10  PTRATIO    0.016313\n"
          ]
        }
      ]
    },
    {
      "cell_type": "markdown",
      "source": [
        "## DEPLOY - Save and Load the Model for Inference\n"
      ],
      "metadata": {
        "id": "y3uBsce-8wRg"
      }
    },
    {
      "cell_type": "code",
      "source": [
        "import joblib\n",
        "\n",
        "# --- Define File Paths ---\n",
        "MODEL_PATH = \"best_boston_housing_model.joblib\"\n",
        "SCALER_PATH = \"boston_housing_scaler.joblib\"\n",
        "\n",
        "# --- Save the Model and the Scaler ---\n",
        "# It's CRITICAL to save the scaler used to preprocess the training data.\n",
        "joblib.dump(best_model, MODEL_PATH)\n",
        "joblib.dump(scaler, SCALER_PATH)\n",
        "\n",
        "print(f\"Model saved to {MODEL_PATH}\")\n",
        "print(f\"Scaler saved to {SCALER_PATH}\")\n",
        "\n",
        "\n",
        "# --- INFERENCE SIMULATION ---\n",
        "# This simulates loading the model in a different application/session.\n",
        "print(\"\\n--- Simulating Inference ---\")\n",
        "loaded_model = joblib.load(MODEL_PATH)\n",
        "loaded_scaler = joblib.load(SCALER_PATH)\n",
        "\n",
        "# Create a sample of new raw data (using the first row of original X_test for example)\n",
        "new_raw_data = X_test.iloc[[5]]\n",
        "print(f\"New Raw Data:\\n{new_raw_data}\")\n",
        "\n",
        "# Preprocess the new data using the LOADED scaler\n",
        "new_data_scaled = loaded_scaler.transform(new_raw_data)\n",
        "\n",
        "# Make prediction with the LOADED model\n",
        "prediction = loaded_model.predict(new_data_scaled)\n",
        "\n",
        "print(f\"\\nPredicted Price for New Data: ${prediction[0] * 1000:,.2f}\")\n",
        "print(f\"Actual Price for Comparison: ${y_test.iloc[5] * 1000:,.2f}\")"
      ],
      "metadata": {
        "colab": {
          "base_uri": "https://localhost:8080/"
        },
        "id": "2BR4oAcI8pvb",
        "outputId": "f8fdd6e7-d4af-4d1e-d2bf-bc1861fa3b74"
      },
      "execution_count": 16,
      "outputs": [
        {
          "output_type": "stream",
          "name": "stdout",
          "text": [
            "Model saved to best_boston_housing_model.joblib\n",
            "Scaler saved to boston_housing_scaler.joblib\n",
            "\n",
            "--- Simulating Inference ---\n",
            "New Raw Data:\n",
            "       CRIM   ZN  INDUS  CHAS    NOX     RM   AGE     DIS  RAD    TAX  \\\n",
            "76  0.10153  0.0  12.83   0.0  0.437  6.279  74.5  4.0522  5.0  398.0   \n",
            "\n",
            "    PTRATIO       B  LSTAT  \n",
            "76     18.7  373.66  11.97  \n",
            "\n",
            "Predicted Price for New Data: $21,425.00\n",
            "Actual Price for Comparison: $20,000.00\n"
          ]
        },
        {
          "output_type": "stream",
          "name": "stderr",
          "text": [
            "/usr/local/lib/python3.11/dist-packages/sklearn/utils/validation.py:2739: UserWarning: X does not have valid feature names, but RandomForestRegressor was fitted with feature names\n",
            "  warnings.warn(\n"
          ]
        }
      ]
    },
    {
      "cell_type": "code",
      "source": [],
      "metadata": {
        "id": "IS5v08ri8zOI"
      },
      "execution_count": null,
      "outputs": []
    }
  ]
}